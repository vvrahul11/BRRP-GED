{
 "cells": [
  {
   "cell_type": "markdown",
   "metadata": {},
   "source": [
    "# Data description"
   ]
  },
  {
   "cell_type": "markdown",
   "metadata": {},
   "source": [
    "#### Author's information\n",
    "Author: Rahul Valiya Veettil\n",
    "Supervisor: Eitan Rubin\n",
    "contact email: rahul.epfl@gmail.com\n",
    "University: Ben-Gurion University of the negev, Israel\n",
    "\n",
    "#### Data\n",
    "The script takes 1809 breast cancer patient samples obtained from the scientific paper  “Gyo¨rffy et. al, An online survival analysis tool to rapidly assess the effect of 22,277 genes on breast cancer prognosis using microarray data of 1,809 patients, Breast Cancer Research and Treatment, 2010.  (Link : https://www.ncbi.nlm.nih.gov/pubmed/20020197)\n",
    "\n",
    "#### The exact location # of the data is at \n",
    "1. http://kmplot.com/analysis/studies/@MAS5_1000_1809_rounded_final.zip \n",
    "2. https://kmplot.com/analysis/studies/@expdesc_1809.txt"
   ]
  },
  {
   "cell_type": "code",
   "execution_count": 3,
   "metadata": {},
   "outputs": [],
   "source": [
    "import pandas as pd\n",
    "import matplotlib.pyplot as plt\n",
    "import seaborn as sns\n",
    "import numpy as np"
   ]
  },
  {
   "cell_type": "markdown",
   "metadata": {},
   "source": [
    "# Import data"
   ]
  },
  {
   "cell_type": "code",
   "execution_count": 4,
   "metadata": {},
   "outputs": [],
   "source": [
    "# Import gene expression data\n",
    "df = pd.read_csv('/media/user/Edison1/RahulGit/BRRP-GED/Data/input_data/@MAS5_1809_kerekitett_vegleges.txt', sep='\\t')\n",
    "\n",
    "# Import clinical data\n",
    "clinical = pd.read_csv('/media/user/Edison1/RahulGit/BRRP-GED/Data/input_data/@expdesc_1809.txt', sep = '\\t')"
   ]
  },
  {
   "cell_type": "code",
   "execution_count": 5,
   "metadata": {},
   "outputs": [
    {
     "name": "stdout",
     "output_type": "stream",
     "text": [
      "(22277, 1810)\n",
      "(1809, 14)\n"
     ]
    }
   ],
   "source": [
    "print(df.shape)\n",
    "print(clinical.shape)"
   ]
  },
  {
   "cell_type": "code",
   "execution_count": 6,
   "metadata": {},
   "outputs": [
    {
     "data": {
      "text/html": [
       "<div>\n",
       "<style scoped>\n",
       "    .dataframe tbody tr th:only-of-type {\n",
       "        vertical-align: middle;\n",
       "    }\n",
       "\n",
       "    .dataframe tbody tr th {\n",
       "        vertical-align: top;\n",
       "    }\n",
       "\n",
       "    .dataframe thead th {\n",
       "        text-align: right;\n",
       "    }\n",
       "</style>\n",
       "<table border=\"1\" class=\"dataframe\">\n",
       "  <thead>\n",
       "    <tr style=\"text-align: right;\">\n",
       "      <th></th>\n",
       "      <th>AffyID</th>\n",
       "      <th>GSM107072</th>\n",
       "      <th>GSM107073</th>\n",
       "      <th>GSM107074</th>\n",
       "      <th>GSM107075</th>\n",
       "    </tr>\n",
       "  </thead>\n",
       "  <tbody>\n",
       "    <tr>\n",
       "      <th>0</th>\n",
       "      <td>1007_s_at</td>\n",
       "      <td>4033</td>\n",
       "      <td>4905</td>\n",
       "      <td>6881</td>\n",
       "      <td>4782</td>\n",
       "    </tr>\n",
       "    <tr>\n",
       "      <th>1</th>\n",
       "      <td>1053_at</td>\n",
       "      <td>229</td>\n",
       "      <td>482</td>\n",
       "      <td>284</td>\n",
       "      <td>158</td>\n",
       "    </tr>\n",
       "    <tr>\n",
       "      <th>2</th>\n",
       "      <td>117_at</td>\n",
       "      <td>332</td>\n",
       "      <td>375</td>\n",
       "      <td>312</td>\n",
       "      <td>206</td>\n",
       "    </tr>\n",
       "    <tr>\n",
       "      <th>3</th>\n",
       "      <td>121_at</td>\n",
       "      <td>1669</td>\n",
       "      <td>2161</td>\n",
       "      <td>2513</td>\n",
       "      <td>1706</td>\n",
       "    </tr>\n",
       "    <tr>\n",
       "      <th>4</th>\n",
       "      <td>1255_g_at</td>\n",
       "      <td>99</td>\n",
       "      <td>103</td>\n",
       "      <td>191</td>\n",
       "      <td>73</td>\n",
       "    </tr>\n",
       "  </tbody>\n",
       "</table>\n",
       "</div>"
      ],
      "text/plain": [
       "      AffyID  GSM107072  GSM107073  GSM107074  GSM107075\n",
       "0  1007_s_at       4033       4905       6881       4782\n",
       "1    1053_at        229        482        284        158\n",
       "2     117_at        332        375        312        206\n",
       "3     121_at       1669       2161       2513       1706\n",
       "4  1255_g_at         99        103        191         73"
      ]
     },
     "execution_count": 6,
     "metadata": {},
     "output_type": "execute_result"
    }
   ],
   "source": [
    "df.iloc[:5, :5]"
   ]
  },
  {
   "cell_type": "markdown",
   "metadata": {},
   "source": [
    "# Boxplot of the top 10 columns"
   ]
  },
  {
   "cell_type": "code",
   "execution_count": 7,
   "metadata": {},
   "outputs": [
    {
     "data": {
      "text/plain": [
       "<matplotlib.axes._subplots.AxesSubplot at 0xa977ae0c>"
      ]
     },
     "execution_count": 7,
     "metadata": {},
     "output_type": "execute_result"
    },
    {
     "data": {
      "image/png": "[encoded data removed]",
      "text/plain": [
       "<Figure size 1080x360 with 1 Axes>"
      ]
     },
     "metadata": {},
     "output_type": "display_data"
    }
   ],
   "source": [
    "plt.figure(figsize = (15, 5))\n",
    "df.iloc[:10, :10].boxplot()"
   ]
  },
  {
   "cell_type": "markdown",
   "metadata": {},
   "source": [
    "# Count  of Relapse free information"
   ]
  },
  {
   "cell_type": "code",
   "execution_count": 8,
   "metadata": {},
   "outputs": [
    {
     "data": {
      "text/html": [
       "<div>\n",
       "<style scoped>\n",
       "    .dataframe tbody tr th:only-of-type {\n",
       "        vertical-align: middle;\n",
       "    }\n",
       "\n",
       "    .dataframe tbody tr th {\n",
       "        vertical-align: top;\n",
       "    }\n",
       "\n",
       "    .dataframe thead th {\n",
       "        text-align: right;\n",
       "    }\n",
       "</style>\n",
       "<table border=\"1\" class=\"dataframe\">\n",
       "  <thead>\n",
       "    <tr style=\"text-align: right;\">\n",
       "      <th></th>\n",
       "      <th>AffyID</th>\n",
       "      <th>DataSet</th>\n",
       "      <th>RFS_event (1=relapse)</th>\n",
       "      <th>RFS_time</th>\n",
       "      <th>Death_event (1=death)</th>\n",
       "      <th>Death_time</th>\n",
       "      <th>DMFS_event (1=relapse)</th>\n",
       "      <th>DMFS_time</th>\n",
       "      <th>ER status</th>\n",
       "      <th>Lymph node status</th>\n",
       "      <th>Death from BC</th>\n",
       "      <th>Grade</th>\n",
       "      <th>Size</th>\n",
       "      <th>Age</th>\n",
       "    </tr>\n",
       "  </thead>\n",
       "  <tbody>\n",
       "    <tr>\n",
       "      <th>0</th>\n",
       "      <td>GSM107072</td>\n",
       "      <td>gse1456</td>\n",
       "      <td>1.0</td>\n",
       "      <td>3,82</td>\n",
       "      <td>1.0</td>\n",
       "      <td>4,14</td>\n",
       "      <td>NaN</td>\n",
       "      <td>NaN</td>\n",
       "      <td>NaN</td>\n",
       "      <td>NaN</td>\n",
       "      <td>1.0</td>\n",
       "      <td>2.0</td>\n",
       "      <td>NaN</td>\n",
       "      <td>NaN</td>\n",
       "    </tr>\n",
       "    <tr>\n",
       "      <th>1</th>\n",
       "      <td>GSM107073</td>\n",
       "      <td>gse1456</td>\n",
       "      <td>0.0</td>\n",
       "      <td>8,15</td>\n",
       "      <td>0.0</td>\n",
       "      <td>8,15</td>\n",
       "      <td>NaN</td>\n",
       "      <td>NaN</td>\n",
       "      <td>NaN</td>\n",
       "      <td>NaN</td>\n",
       "      <td>0.0</td>\n",
       "      <td>3.0</td>\n",
       "      <td>NaN</td>\n",
       "      <td>NaN</td>\n",
       "    </tr>\n",
       "    <tr>\n",
       "      <th>2</th>\n",
       "      <td>GSM107074</td>\n",
       "      <td>gse1456</td>\n",
       "      <td>0.0</td>\n",
       "      <td>8,36</td>\n",
       "      <td>1.0</td>\n",
       "      <td>2,22</td>\n",
       "      <td>NaN</td>\n",
       "      <td>NaN</td>\n",
       "      <td>NaN</td>\n",
       "      <td>NaN</td>\n",
       "      <td>0.0</td>\n",
       "      <td>1.0</td>\n",
       "      <td>NaN</td>\n",
       "      <td>NaN</td>\n",
       "    </tr>\n",
       "    <tr>\n",
       "      <th>3</th>\n",
       "      <td>GSM107075</td>\n",
       "      <td>gse1456</td>\n",
       "      <td>0.0</td>\n",
       "      <td>8,23</td>\n",
       "      <td>0.0</td>\n",
       "      <td>8,23</td>\n",
       "      <td>NaN</td>\n",
       "      <td>NaN</td>\n",
       "      <td>NaN</td>\n",
       "      <td>NaN</td>\n",
       "      <td>0.0</td>\n",
       "      <td>2.0</td>\n",
       "      <td>NaN</td>\n",
       "      <td>NaN</td>\n",
       "    </tr>\n",
       "    <tr>\n",
       "      <th>4</th>\n",
       "      <td>GSM107076</td>\n",
       "      <td>gse1456</td>\n",
       "      <td>0.0</td>\n",
       "      <td>8,07</td>\n",
       "      <td>1.0</td>\n",
       "      <td>5,55</td>\n",
       "      <td>NaN</td>\n",
       "      <td>NaN</td>\n",
       "      <td>NaN</td>\n",
       "      <td>NaN</td>\n",
       "      <td>0.0</td>\n",
       "      <td>NaN</td>\n",
       "      <td>NaN</td>\n",
       "      <td>NaN</td>\n",
       "    </tr>\n",
       "  </tbody>\n",
       "</table>\n",
       "</div>"
      ],
      "text/plain": [
       "      AffyID DataSet   RFS_event (1=relapse) RFS_time  Death_event (1=death)  \\\n",
       "0  GSM107072  gse1456                    1.0     3,82                    1.0   \n",
       "1  GSM107073  gse1456                    0.0     8,15                    0.0   \n",
       "2  GSM107074  gse1456                    0.0     8,36                    1.0   \n",
       "3  GSM107075  gse1456                    0.0     8,23                    0.0   \n",
       "4  GSM107076  gse1456                    0.0     8,07                    1.0   \n",
       "\n",
       "  Death_time DMFS_event (1=relapse) DMFS_time  ER status  Lymph node status  \\\n",
       "0       4,14                    NaN       NaN        NaN                NaN   \n",
       "1       8,15                    NaN       NaN        NaN                NaN   \n",
       "2       2,22                    NaN       NaN        NaN                NaN   \n",
       "3       8,23                    NaN       NaN        NaN                NaN   \n",
       "4       5,55                    NaN       NaN        NaN                NaN   \n",
       "\n",
       "   Death from BC  Grade Size  Age  \n",
       "0            1.0    2.0  NaN  NaN  \n",
       "1            0.0    3.0  NaN  NaN  \n",
       "2            0.0    1.0  NaN  NaN  \n",
       "3            0.0    2.0  NaN  NaN  \n",
       "4            0.0    NaN  NaN  NaN  "
      ]
     },
     "execution_count": 8,
     "metadata": {},
     "output_type": "execute_result"
    }
   ],
   "source": [
    "clinical.head()"
   ]
  },
  {
   "cell_type": "code",
   "execution_count": 9,
   "metadata": {},
   "outputs": [
    {
     "data": {
      "text/plain": [
       "0.0    903\n",
       "1.0    689\n",
       "Name: RFS_event, dtype: int64"
      ]
     },
     "execution_count": 9,
     "metadata": {},
     "output_type": "execute_result"
    }
   ],
   "source": [
    "# Change the names to similar to PCM-sabre paper\n",
    "clinical.rename(columns={'RFS_event (1=relapse)':'RFS_event',\n",
    "                         'RFS_time':'RFS_time',\n",
    "                         'Death_event (1=death)':'Death_event',\n",
    "                         'Death_time':'Death_time',\n",
    "                         'DMFS_event (1=relapse)':'DMFS_event',\n",
    "                         'DMFS_time':'DMFS_time',\n",
    "                         'ER status':'ER.status',\n",
    "                         'Lymph node status':'Lymph.node.status',\n",
    "                         'Age':'Age.x'}, inplace = True)\n",
    "\n",
    "# drop unimportant columns for analysis\n",
    "clinical.drop(columns = ['DataSet '], axis = 1, inplace = True)\n",
    "clinical.drop(columns = ['Death from BC'], axis = 1, inplace = True)\n",
    "\n",
    "# Count of relapse information\n",
    "clinical['RFS_event'].value_counts()"
   ]
  },
  {
   "cell_type": "markdown",
   "metadata": {},
   "source": [
    "# Funciton to calculate the missing value information"
   ]
  },
  {
   "cell_type": "code",
   "execution_count": 10,
   "metadata": {},
   "outputs": [],
   "source": [
    "# Find columns with missing values\n",
    "def missing_value_info(df, cut_off):\n",
    "  \"\"\"\n",
    "  Function to find missing values in columns with the corresponding count  \n",
    "  parameters\n",
    "  ----\n",
    "  df (pandas df): A pandas dataframe\n",
    "  cut-off(integet): A cut-off value for the selection of features with least missing values\n",
    "  \n",
    "  prints\n",
    "  ----\n",
    "  Prints number of missing values in each column\n",
    "  \"\"\"\n",
    "  \n",
    "  print(\"Number of columns containing null values\")\n",
    "  print(len(df.columns[df.isna().any()]), end = \"\\n\")\n",
    "  print(\"-----------\")\n",
    "    \n",
    "  print(\"Number of columns not containig null values\")\n",
    "  print(len(df.columns[df.notna().all()]), end = \"\\n\")\n",
    "  print(\"------------\")\n",
    "  \n",
    "  print(\"Number of missing values in each column\")\n",
    "  print(\"---------\")\n",
    "  \n",
    "  missing_values = {}\n",
    "  no_missing_value_cols = []\n",
    "  # loop through each column and calculate the missing value count in each column\n",
    "  for col in df.columns:\n",
    "    #print(col, \"\\t\")\n",
    "    if df[col].isna().any():      \n",
    "      missing_values[col] = (df[col].isna().sum()/df.shape[0]) * 100      \n",
    "      #print(missing_values[col])\n",
    "    else:\n",
    "      no_missing_value_cols.append(col)\n",
    "      missing_values[col] = 0\n",
    "      #print(missing_values[col])\n",
    "      \n",
    "  \n",
    "  # create a dataframe of column names and corresponding missing value percentage\n",
    "  missing_values = pd.DataFrame.from_dict(missing_values, orient = \"index\", columns = ['% of missing values'])\n",
    "  # choose features based ona missing value percentage cut-off\n",
    "  missing_values = missing_values[missing_values['% of missing values'] < cut_off]\n",
    "  # get the names of the features selected after the missing value cut-off step\n",
    "  #features_selected = missing_values.index.to_list()\n",
    "  \n",
    "  # create a seaborn bartplot of missing value feature names and corresponding missing value percentage\n",
    "  sns.set(rc={'figure.figsize':(10,10)})\n",
    "  sns.set(style = \"whitegrid\")\n",
    "  sns.barplot(y = '% of missing values', \n",
    "              x = missing_values.index,\n",
    "              data = missing_values,\n",
    "              color = 'b')\n",
    "  plt.xticks(rotation=90, size = 15)\n",
    "  plt.yticks(size = 15)\n",
    "  plt.tight_layout()  \n",
    "  \n",
    "  # append missing values columns with cut-off applied to the selected_list_features list\n",
    "  #no_missing_value_cols.append(features_selected)\n",
    "  #selected_list_features = [inner for outer in no_missing_value_cols for inner in outer]\n",
    "  \n",
    "  # return selected feature names\n",
    "  return no_missing_value_cols #, features_selected\n",
    "  "
   ]
  },
  {
   "cell_type": "markdown",
   "metadata": {},
   "source": [
    "# Percentage of missing value count in clinilcal data"
   ]
  },
  {
   "cell_type": "code",
   "execution_count": 11,
   "metadata": {},
   "outputs": [
    {
     "name": "stdout",
     "output_type": "stream",
     "text": [
      "Number of columns containing null values\n",
      "11\n",
      "-----------\n",
      "Number of columns not containig null values\n",
      "1\n",
      "------------\n",
      "Number of missing values in each column\n",
      "---------\n"
     ]
    },
    {
     "data": {
      "text/plain": [
       "['AffyID']"
      ]
     },
     "execution_count": 11,
     "metadata": {},
     "output_type": "execute_result"
    },
    {
     "data": {
      "image/png": "[encoded data removed]",
      "text/plain": [
       "<Figure size 720x720 with 1 Axes>"
      ]
     },
     "metadata": {},
     "output_type": "display_data"
    }
   ],
   "source": [
    "missing_value_info(clinical, cut_off = 100)"
   ]
  },
  {
   "cell_type": "markdown",
   "metadata": {},
   "source": [
    "# The count of relapse events and distribution"
   ]
  },
  {
   "cell_type": "code",
   "execution_count": 12,
   "metadata": {},
   "outputs": [
    {
     "name": "stdout",
     "output_type": "stream",
     "text": [
      "Number of patients with RFS_event available 1592\n",
      "The count of non-relapsed and relapsed patients\n",
      "0.0    903\n",
      "1.0    689\n",
      "Name: RFS_event, dtype: int64\n"
     ]
    },
    {
     "data": {
      "image/png": "[encoded data removed]",
      "text/plain": [
       "<Figure size 360x216 with 1 Axes>"
      ]
     },
     "metadata": {},
     "output_type": "display_data"
    }
   ],
   "source": [
    "print('Number of patients with RFS_event available', sum(clinical['RFS_event'].value_counts()))\n",
    "\n",
    "plt.figure(figsize = (5, 3))\n",
    "clinical['RFS_event'].hist()\n",
    "print('The count of non-relapsed and relapsed patients')\n",
    "print(clinical['RFS_event'].value_counts())\n"
   ]
  },
  {
   "cell_type": "code",
   "execution_count": 13,
   "metadata": {},
   "outputs": [
    {
     "data": {
      "text/html": [
       "<div>\n",
       "<style scoped>\n",
       "    .dataframe tbody tr th:only-of-type {\n",
       "        vertical-align: middle;\n",
       "    }\n",
       "\n",
       "    .dataframe tbody tr th {\n",
       "        vertical-align: top;\n",
       "    }\n",
       "\n",
       "    .dataframe thead th {\n",
       "        text-align: right;\n",
       "    }\n",
       "</style>\n",
       "<table border=\"1\" class=\"dataframe\">\n",
       "  <thead>\n",
       "    <tr style=\"text-align: right;\">\n",
       "      <th>AffyID</th>\n",
       "      <th>1007_s_at</th>\n",
       "      <th>1053_at</th>\n",
       "      <th>117_at</th>\n",
       "      <th>121_at</th>\n",
       "      <th>1255_g_at</th>\n",
       "    </tr>\n",
       "  </thead>\n",
       "  <tbody>\n",
       "    <tr>\n",
       "      <th>GSM107072</th>\n",
       "      <td>4033</td>\n",
       "      <td>229</td>\n",
       "      <td>332</td>\n",
       "      <td>1669</td>\n",
       "      <td>99</td>\n",
       "    </tr>\n",
       "    <tr>\n",
       "      <th>GSM107073</th>\n",
       "      <td>4905</td>\n",
       "      <td>482</td>\n",
       "      <td>375</td>\n",
       "      <td>2161</td>\n",
       "      <td>103</td>\n",
       "    </tr>\n",
       "    <tr>\n",
       "      <th>GSM107074</th>\n",
       "      <td>6881</td>\n",
       "      <td>284</td>\n",
       "      <td>312</td>\n",
       "      <td>2513</td>\n",
       "      <td>191</td>\n",
       "    </tr>\n",
       "    <tr>\n",
       "      <th>GSM107075</th>\n",
       "      <td>4782</td>\n",
       "      <td>158</td>\n",
       "      <td>206</td>\n",
       "      <td>1706</td>\n",
       "      <td>73</td>\n",
       "    </tr>\n",
       "    <tr>\n",
       "      <th>GSM107076</th>\n",
       "      <td>4898</td>\n",
       "      <td>255</td>\n",
       "      <td>422</td>\n",
       "      <td>1709</td>\n",
       "      <td>73</td>\n",
       "    </tr>\n",
       "  </tbody>\n",
       "</table>\n",
       "</div>"
      ],
      "text/plain": [
       "AffyID    1007_s_at 1053_at 117_at 121_at 1255_g_at\n",
       "GSM107072      4033     229    332   1669        99\n",
       "GSM107073      4905     482    375   2161       103\n",
       "GSM107074      6881     284    312   2513       191\n",
       "GSM107075      4782     158    206   1706        73\n",
       "GSM107076      4898     255    422   1709        73"
      ]
     },
     "execution_count": 13,
     "metadata": {},
     "output_type": "execute_result"
    }
   ],
   "source": [
    "# transform the dataframe to get patient in rows and probes in columns\n",
    "df2 = df.transpose()\n",
    "\n",
    "# Get the probe names\n",
    "df2.columns =  df2.loc[\"AffyID\"]\n",
    "\n",
    "# Remove first row containing probe names\n",
    "df2 = df2.iloc[1:]\n",
    "\n",
    "# assign probe names as column name\n",
    "df2.iloc[0:5, 0:5]"
   ]
  },
  {
   "cell_type": "code",
   "execution_count": 14,
   "metadata": {},
   "outputs": [
    {
     "data": {
      "text/html": [
       "<div>\n",
       "<style scoped>\n",
       "    .dataframe tbody tr th:only-of-type {\n",
       "        vertical-align: middle;\n",
       "    }\n",
       "\n",
       "    .dataframe tbody tr th {\n",
       "        vertical-align: top;\n",
       "    }\n",
       "\n",
       "    .dataframe thead th {\n",
       "        text-align: right;\n",
       "    }\n",
       "</style>\n",
       "<table border=\"1\" class=\"dataframe\">\n",
       "  <thead>\n",
       "    <tr style=\"text-align: right;\">\n",
       "      <th></th>\n",
       "      <th>AffyID</th>\n",
       "      <th>RFS_event</th>\n",
       "      <th>RFS_time</th>\n",
       "      <th>Death_event</th>\n",
       "      <th>Death_time</th>\n",
       "      <th>DMFS_event</th>\n",
       "      <th>DMFS_time</th>\n",
       "      <th>ER.status</th>\n",
       "      <th>Lymph.node.status</th>\n",
       "      <th>Grade</th>\n",
       "      <th>Size</th>\n",
       "      <th>Age.x</th>\n",
       "    </tr>\n",
       "  </thead>\n",
       "  <tbody>\n",
       "    <tr>\n",
       "      <th>0</th>\n",
       "      <td>GSM107072</td>\n",
       "      <td>1.0</td>\n",
       "      <td>3,82</td>\n",
       "      <td>1.0</td>\n",
       "      <td>4,14</td>\n",
       "      <td>NaN</td>\n",
       "      <td>NaN</td>\n",
       "      <td>NaN</td>\n",
       "      <td>NaN</td>\n",
       "      <td>2.0</td>\n",
       "      <td>NaN</td>\n",
       "      <td>NaN</td>\n",
       "    </tr>\n",
       "    <tr>\n",
       "      <th>1</th>\n",
       "      <td>GSM107073</td>\n",
       "      <td>0.0</td>\n",
       "      <td>8,15</td>\n",
       "      <td>0.0</td>\n",
       "      <td>8,15</td>\n",
       "      <td>NaN</td>\n",
       "      <td>NaN</td>\n",
       "      <td>NaN</td>\n",
       "      <td>NaN</td>\n",
       "      <td>3.0</td>\n",
       "      <td>NaN</td>\n",
       "      <td>NaN</td>\n",
       "    </tr>\n",
       "    <tr>\n",
       "      <th>2</th>\n",
       "      <td>GSM107074</td>\n",
       "      <td>0.0</td>\n",
       "      <td>8,36</td>\n",
       "      <td>1.0</td>\n",
       "      <td>2,22</td>\n",
       "      <td>NaN</td>\n",
       "      <td>NaN</td>\n",
       "      <td>NaN</td>\n",
       "      <td>NaN</td>\n",
       "      <td>1.0</td>\n",
       "      <td>NaN</td>\n",
       "      <td>NaN</td>\n",
       "    </tr>\n",
       "    <tr>\n",
       "      <th>3</th>\n",
       "      <td>GSM107075</td>\n",
       "      <td>0.0</td>\n",
       "      <td>8,23</td>\n",
       "      <td>0.0</td>\n",
       "      <td>8,23</td>\n",
       "      <td>NaN</td>\n",
       "      <td>NaN</td>\n",
       "      <td>NaN</td>\n",
       "      <td>NaN</td>\n",
       "      <td>2.0</td>\n",
       "      <td>NaN</td>\n",
       "      <td>NaN</td>\n",
       "    </tr>\n",
       "    <tr>\n",
       "      <th>4</th>\n",
       "      <td>GSM107076</td>\n",
       "      <td>0.0</td>\n",
       "      <td>8,07</td>\n",
       "      <td>1.0</td>\n",
       "      <td>5,55</td>\n",
       "      <td>NaN</td>\n",
       "      <td>NaN</td>\n",
       "      <td>NaN</td>\n",
       "      <td>NaN</td>\n",
       "      <td>NaN</td>\n",
       "      <td>NaN</td>\n",
       "      <td>NaN</td>\n",
       "    </tr>\n",
       "  </tbody>\n",
       "</table>\n",
       "</div>"
      ],
      "text/plain": [
       "      AffyID  RFS_event RFS_time  Death_event Death_time DMFS_event DMFS_time  \\\n",
       "0  GSM107072        1.0     3,82          1.0       4,14        NaN       NaN   \n",
       "1  GSM107073        0.0     8,15          0.0       8,15        NaN       NaN   \n",
       "2  GSM107074        0.0     8,36          1.0       2,22        NaN       NaN   \n",
       "3  GSM107075        0.0     8,23          0.0       8,23        NaN       NaN   \n",
       "4  GSM107076        0.0     8,07          1.0       5,55        NaN       NaN   \n",
       "\n",
       "   ER.status  Lymph.node.status  Grade Size  Age.x  \n",
       "0        NaN                NaN    2.0  NaN    NaN  \n",
       "1        NaN                NaN    3.0  NaN    NaN  \n",
       "2        NaN                NaN    1.0  NaN    NaN  \n",
       "3        NaN                NaN    2.0  NaN    NaN  \n",
       "4        NaN                NaN    NaN  NaN    NaN  "
      ]
     },
     "execution_count": 14,
     "metadata": {},
     "output_type": "execute_result"
    }
   ],
   "source": [
    "clinical.iloc[0:5, :]"
   ]
  },
  {
   "cell_type": "code",
   "execution_count": 15,
   "metadata": {},
   "outputs": [
    {
     "data": {
      "text/html": [
       "<div>\n",
       "<style scoped>\n",
       "    .dataframe tbody tr th:only-of-type {\n",
       "        vertical-align: middle;\n",
       "    }\n",
       "\n",
       "    .dataframe tbody tr th {\n",
       "        vertical-align: top;\n",
       "    }\n",
       "\n",
       "    .dataframe thead th {\n",
       "        text-align: right;\n",
       "    }\n",
       "</style>\n",
       "<table border=\"1\" class=\"dataframe\">\n",
       "  <thead>\n",
       "    <tr style=\"text-align: right;\">\n",
       "      <th></th>\n",
       "      <th>RFS_event</th>\n",
       "      <th>RFS_time</th>\n",
       "      <th>Death_event</th>\n",
       "      <th>Death_time</th>\n",
       "      <th>DMFS_event</th>\n",
       "      <th>DMFS_time</th>\n",
       "      <th>ER.status</th>\n",
       "      <th>Lymph.node.status</th>\n",
       "      <th>Grade</th>\n",
       "      <th>Size</th>\n",
       "      <th>Age.x</th>\n",
       "    </tr>\n",
       "    <tr>\n",
       "      <th>AffyID</th>\n",
       "      <th></th>\n",
       "      <th></th>\n",
       "      <th></th>\n",
       "      <th></th>\n",
       "      <th></th>\n",
       "      <th></th>\n",
       "      <th></th>\n",
       "      <th></th>\n",
       "      <th></th>\n",
       "      <th></th>\n",
       "      <th></th>\n",
       "    </tr>\n",
       "  </thead>\n",
       "  <tbody>\n",
       "    <tr>\n",
       "      <th>GSM107072</th>\n",
       "      <td>1.0</td>\n",
       "      <td>3,82</td>\n",
       "      <td>1.0</td>\n",
       "      <td>4,14</td>\n",
       "      <td>NaN</td>\n",
       "      <td>NaN</td>\n",
       "      <td>NaN</td>\n",
       "      <td>NaN</td>\n",
       "      <td>2.0</td>\n",
       "      <td>NaN</td>\n",
       "      <td>NaN</td>\n",
       "    </tr>\n",
       "    <tr>\n",
       "      <th>GSM107073</th>\n",
       "      <td>0.0</td>\n",
       "      <td>8,15</td>\n",
       "      <td>0.0</td>\n",
       "      <td>8,15</td>\n",
       "      <td>NaN</td>\n",
       "      <td>NaN</td>\n",
       "      <td>NaN</td>\n",
       "      <td>NaN</td>\n",
       "      <td>3.0</td>\n",
       "      <td>NaN</td>\n",
       "      <td>NaN</td>\n",
       "    </tr>\n",
       "    <tr>\n",
       "      <th>GSM107074</th>\n",
       "      <td>0.0</td>\n",
       "      <td>8,36</td>\n",
       "      <td>1.0</td>\n",
       "      <td>2,22</td>\n",
       "      <td>NaN</td>\n",
       "      <td>NaN</td>\n",
       "      <td>NaN</td>\n",
       "      <td>NaN</td>\n",
       "      <td>1.0</td>\n",
       "      <td>NaN</td>\n",
       "      <td>NaN</td>\n",
       "    </tr>\n",
       "    <tr>\n",
       "      <th>GSM107075</th>\n",
       "      <td>0.0</td>\n",
       "      <td>8,23</td>\n",
       "      <td>0.0</td>\n",
       "      <td>8,23</td>\n",
       "      <td>NaN</td>\n",
       "      <td>NaN</td>\n",
       "      <td>NaN</td>\n",
       "      <td>NaN</td>\n",
       "      <td>2.0</td>\n",
       "      <td>NaN</td>\n",
       "      <td>NaN</td>\n",
       "    </tr>\n",
       "    <tr>\n",
       "      <th>GSM107076</th>\n",
       "      <td>0.0</td>\n",
       "      <td>8,07</td>\n",
       "      <td>1.0</td>\n",
       "      <td>5,55</td>\n",
       "      <td>NaN</td>\n",
       "      <td>NaN</td>\n",
       "      <td>NaN</td>\n",
       "      <td>NaN</td>\n",
       "      <td>NaN</td>\n",
       "      <td>NaN</td>\n",
       "      <td>NaN</td>\n",
       "    </tr>\n",
       "  </tbody>\n",
       "</table>\n",
       "</div>"
      ],
      "text/plain": [
       "           RFS_event RFS_time  Death_event Death_time DMFS_event DMFS_time  \\\n",
       "AffyID                                                                       \n",
       "GSM107072        1.0     3,82          1.0       4,14        NaN       NaN   \n",
       "GSM107073        0.0     8,15          0.0       8,15        NaN       NaN   \n",
       "GSM107074        0.0     8,36          1.0       2,22        NaN       NaN   \n",
       "GSM107075        0.0     8,23          0.0       8,23        NaN       NaN   \n",
       "GSM107076        0.0     8,07          1.0       5,55        NaN       NaN   \n",
       "\n",
       "           ER.status  Lymph.node.status  Grade Size  Age.x  \n",
       "AffyID                                                      \n",
       "GSM107072        NaN                NaN    2.0  NaN    NaN  \n",
       "GSM107073        NaN                NaN    3.0  NaN    NaN  \n",
       "GSM107074        NaN                NaN    1.0  NaN    NaN  \n",
       "GSM107075        NaN                NaN    2.0  NaN    NaN  \n",
       "GSM107076        NaN                NaN    NaN  NaN    NaN  "
      ]
     },
     "execution_count": 15,
     "metadata": {},
     "output_type": "execute_result"
    }
   ],
   "source": [
    "clinical.set_index(keys = 'AffyID', drop = True, inplace = True)\n",
    "clinical.head()"
   ]
  },
  {
   "cell_type": "code",
   "execution_count": 16,
   "metadata": {},
   "outputs": [],
   "source": [
    "MAS5_1809_merged = pd.merge(df2, clinical, left_index = True, right_index = True)\n",
    "#MAS5_1809_merged = df2.reset_index().merge(clinical, on='AffyID').set_index('index')"
   ]
  },
  {
   "cell_type": "code",
   "execution_count": 17,
   "metadata": {},
   "outputs": [
    {
     "name": "stdout",
     "output_type": "stream",
     "text": [
      "(1809, 22288)\n",
      "(1809, 22277)\n",
      "(1809, 11)\n",
      "22288\n"
     ]
    }
   ],
   "source": [
    "print(MAS5_1809_merged.shape)\n",
    "print(df2.shape)\n",
    "print(clinical.shape)\n",
    "print(clinical.shape[1]  + df2.shape[1])"
   ]
  },
  {
   "attachments": {},
   "cell_type": "markdown",
   "metadata": {},
   "source": [
    "# How to get to the final dataframe size"
   ]
  },
  {
   "cell_type": "code",
   "execution_count": 18,
   "metadata": {},
   "outputs": [],
   "source": [
    "combined = pd.read_csv(\"/media/user/Edison1/GeneRank_Ruth/Data-Noa-GeneBased/OriginalData and clinical/CombinedExpression.csv\")\n"
   ]
  },
  {
   "cell_type": "code",
   "execution_count": 19,
   "metadata": {},
   "outputs": [
    {
     "data": {
      "text/html": [
       "<div>\n",
       "<style scoped>\n",
       "    .dataframe tbody tr th:only-of-type {\n",
       "        vertical-align: middle;\n",
       "    }\n",
       "\n",
       "    .dataframe tbody tr th {\n",
       "        vertical-align: top;\n",
       "    }\n",
       "\n",
       "    .dataframe thead th {\n",
       "        text-align: right;\n",
       "    }\n",
       "</style>\n",
       "<table border=\"1\" class=\"dataframe\">\n",
       "  <thead>\n",
       "    <tr style=\"text-align: right;\">\n",
       "      <th></th>\n",
       "      <th>Patient</th>\n",
       "      <th>ER.status</th>\n",
       "      <th>Lymph.node.status</th>\n",
       "      <th>Grade</th>\n",
       "      <th>Size</th>\n",
       "      <th>Age.x</th>\n",
       "      <th>X1007_s_at</th>\n",
       "      <th>X1053_at</th>\n",
       "      <th>X117_at</th>\n",
       "      <th>X121_at</th>\n",
       "      <th>...</th>\n",
       "      <th>X91826_at</th>\n",
       "      <th>X91920_at</th>\n",
       "      <th>X91952_at</th>\n",
       "      <th>Prediction</th>\n",
       "      <th>RFS_event</th>\n",
       "      <th>RFS_time</th>\n",
       "      <th>Death_event</th>\n",
       "      <th>Death_time</th>\n",
       "      <th>DMFS_event</th>\n",
       "      <th>DMFS_time</th>\n",
       "    </tr>\n",
       "  </thead>\n",
       "  <tbody>\n",
       "    <tr>\n",
       "      <th>0</th>\n",
       "      <td>GSM107072</td>\n",
       "      <td>NaN</td>\n",
       "      <td>NaN</td>\n",
       "      <td>2.0</td>\n",
       "      <td>NaN</td>\n",
       "      <td>NaN</td>\n",
       "      <td>4033</td>\n",
       "      <td>229</td>\n",
       "      <td>332</td>\n",
       "      <td>1669</td>\n",
       "      <td>...</td>\n",
       "      <td>600</td>\n",
       "      <td>489</td>\n",
       "      <td>356</td>\n",
       "      <td>HIGH</td>\n",
       "      <td>1</td>\n",
       "      <td>3</td>\n",
       "      <td>82.0</td>\n",
       "      <td>1.0</td>\n",
       "      <td>4.0</td>\n",
       "      <td>14.0</td>\n",
       "    </tr>\n",
       "    <tr>\n",
       "      <th>1</th>\n",
       "      <td>GSM107073</td>\n",
       "      <td>NaN</td>\n",
       "      <td>NaN</td>\n",
       "      <td>3.0</td>\n",
       "      <td>NaN</td>\n",
       "      <td>NaN</td>\n",
       "      <td>4905</td>\n",
       "      <td>482</td>\n",
       "      <td>375</td>\n",
       "      <td>2161</td>\n",
       "      <td>...</td>\n",
       "      <td>620</td>\n",
       "      <td>606</td>\n",
       "      <td>330</td>\n",
       "      <td>LOW</td>\n",
       "      <td>0</td>\n",
       "      <td>8</td>\n",
       "      <td>15.0</td>\n",
       "      <td>0.0</td>\n",
       "      <td>8.0</td>\n",
       "      <td>15.0</td>\n",
       "    </tr>\n",
       "    <tr>\n",
       "      <th>2</th>\n",
       "      <td>GSM107074</td>\n",
       "      <td>NaN</td>\n",
       "      <td>NaN</td>\n",
       "      <td>1.0</td>\n",
       "      <td>NaN</td>\n",
       "      <td>NaN</td>\n",
       "      <td>6881</td>\n",
       "      <td>284</td>\n",
       "      <td>312</td>\n",
       "      <td>2513</td>\n",
       "      <td>...</td>\n",
       "      <td>733</td>\n",
       "      <td>1263</td>\n",
       "      <td>400</td>\n",
       "      <td>LOW</td>\n",
       "      <td>0</td>\n",
       "      <td>8</td>\n",
       "      <td>36.0</td>\n",
       "      <td>1.0</td>\n",
       "      <td>2.0</td>\n",
       "      <td>22.0</td>\n",
       "    </tr>\n",
       "    <tr>\n",
       "      <th>3</th>\n",
       "      <td>GSM107075</td>\n",
       "      <td>NaN</td>\n",
       "      <td>NaN</td>\n",
       "      <td>2.0</td>\n",
       "      <td>NaN</td>\n",
       "      <td>NaN</td>\n",
       "      <td>4782</td>\n",
       "      <td>158</td>\n",
       "      <td>206</td>\n",
       "      <td>1706</td>\n",
       "      <td>...</td>\n",
       "      <td>736</td>\n",
       "      <td>724</td>\n",
       "      <td>352</td>\n",
       "      <td>LOW</td>\n",
       "      <td>0</td>\n",
       "      <td>8</td>\n",
       "      <td>23.0</td>\n",
       "      <td>0.0</td>\n",
       "      <td>8.0</td>\n",
       "      <td>23.0</td>\n",
       "    </tr>\n",
       "    <tr>\n",
       "      <th>4</th>\n",
       "      <td>GSM107076</td>\n",
       "      <td>NaN</td>\n",
       "      <td>NaN</td>\n",
       "      <td>NaN</td>\n",
       "      <td>NaN</td>\n",
       "      <td>NaN</td>\n",
       "      <td>4898</td>\n",
       "      <td>255</td>\n",
       "      <td>422</td>\n",
       "      <td>1709</td>\n",
       "      <td>...</td>\n",
       "      <td>606</td>\n",
       "      <td>809</td>\n",
       "      <td>408</td>\n",
       "      <td>LOW</td>\n",
       "      <td>0</td>\n",
       "      <td>8</td>\n",
       "      <td>7.0</td>\n",
       "      <td>1.0</td>\n",
       "      <td>5.0</td>\n",
       "      <td>55.0</td>\n",
       "    </tr>\n",
       "  </tbody>\n",
       "</table>\n",
       "<p>5 rows × 22228 columns</p>\n",
       "</div>"
      ],
      "text/plain": [
       "     Patient  ER.status  Lymph.node.status  Grade  Size  Age.x  X1007_s_at  \\\n",
       "0  GSM107072        NaN                NaN    2.0   NaN    NaN        4033   \n",
       "1  GSM107073        NaN                NaN    3.0   NaN    NaN        4905   \n",
       "2  GSM107074        NaN                NaN    1.0   NaN    NaN        6881   \n",
       "3  GSM107075        NaN                NaN    2.0   NaN    NaN        4782   \n",
       "4  GSM107076        NaN                NaN    NaN   NaN    NaN        4898   \n",
       "\n",
       "   X1053_at  X117_at  X121_at    ...      X91826_at  X91920_at  X91952_at  \\\n",
       "0       229      332     1669    ...            600        489        356   \n",
       "1       482      375     2161    ...            620        606        330   \n",
       "2       284      312     2513    ...            733       1263        400   \n",
       "3       158      206     1706    ...            736        724        352   \n",
       "4       255      422     1709    ...            606        809        408   \n",
       "\n",
       "   Prediction  RFS_event  RFS_time  Death_event  Death_time  DMFS_event  \\\n",
       "0        HIGH          1         3         82.0         1.0         4.0   \n",
       "1         LOW          0         8         15.0         0.0         8.0   \n",
       "2         LOW          0         8         36.0         1.0         2.0   \n",
       "3         LOW          0         8         23.0         0.0         8.0   \n",
       "4         LOW          0         8          7.0         1.0         5.0   \n",
       "\n",
       "   DMFS_time  \n",
       "0       14.0  \n",
       "1       15.0  \n",
       "2       22.0  \n",
       "3       23.0  \n",
       "4       55.0  \n",
       "\n",
       "[5 rows x 22228 columns]"
      ]
     },
     "execution_count": 19,
     "metadata": {},
     "output_type": "execute_result"
    }
   ],
   "source": [
    "combined.head(5)"
   ]
  },
  {
   "cell_type": "code",
   "execution_count": 21,
   "metadata": {},
   "outputs": [
    {
     "data": {
      "text/plain": [
       "22215"
      ]
     },
     "execution_count": 21,
     "metadata": {},
     "output_type": "execute_result"
    }
   ],
   "source": [
    "combined.shape[1] - 13 # where 13 is clinical data and patient ID"
   ]
  },
  {
   "cell_type": "code",
   "execution_count": 22,
   "metadata": {},
   "outputs": [],
   "source": [
    "# Get noa's cols and original data cols\n",
    "noa_col = combined.columns\n",
    "original_col = MAS5_1809_merged.columns"
   ]
  },
  {
   "cell_type": "code",
   "execution_count": 23,
   "metadata": {},
   "outputs": [],
   "source": [
    "# Since there are X charaters in noa's cols remove it\n",
    "noa_col_probes = [word[1:] for word in noa_col.tolist() if word.startswith('X')]"
   ]
  },
  {
   "cell_type": "code",
   "execution_count": 24,
   "metadata": {},
   "outputs": [
    {
     "name": "stdout",
     "output_type": "stream",
     "text": [
      "22228\n",
      "22215\n",
      "22288\n"
     ]
    }
   ],
   "source": [
    "print(len(noa_col))\n",
    "print(len(noa_col_probes))\n",
    "print(len(original_col))"
   ]
  },
  {
   "cell_type": "code",
   "execution_count": 25,
   "metadata": {},
   "outputs": [
    {
     "name": "stdout",
     "output_type": "stream",
     "text": [
      "Patient\n",
      "ER.status\n",
      "Lymph.node.status\n",
      "Grade\n",
      "Size\n",
      "Age.x\n",
      "Prediction\n",
      "RFS_event\n",
      "RFS_time\n",
      "Death_event\n",
      "Death_time\n",
      "DMFS_event\n",
      "DMFS_time\n"
     ]
    }
   ],
   "source": [
    "# Additional columns \n",
    "for word in noa_col.tolist(): \n",
    "    if word.startswith('X'):\n",
    "        pass\n",
    "    else:\n",
    "        print(word)"
   ]
  },
  {
   "cell_type": "code",
   "execution_count": 26,
   "metadata": {},
   "outputs": [
    {
     "name": "stdout",
     "output_type": "stream",
     "text": [
      "['AFFX-BioB-3_at', 'AFFX-BioB-5_at', 'AFFX-BioB-M_at', 'AFFX-BioC-3_at', 'AFFX-BioC-5_at', 'AFFX-BioDn-3_at', 'AFFX-BioDn-5_at', 'AFFX-CreX-3_at', 'AFFX-CreX-5_at', 'AFFX-DapX-3_at', 'AFFX-DapX-5_at', 'AFFX-DapX-M_at', 'AFFX-HSAC07/X00351_3_at', 'AFFX-HSAC07/X00351_5_at', 'AFFX-HSAC07/X00351_M_at', 'AFFX-hum_alu_at', 'AFFX-HUMGAPDH/M33197_3_at', 'AFFX-HUMGAPDH/M33197_5_at', 'AFFX-HUMGAPDH/M33197_M_at', 'AFFX-HUMISGF3A/M97935_3_at', 'AFFX-HUMISGF3A/M97935_5_at', 'AFFX-HUMISGF3A/M97935_MA_at', 'AFFX-HUMISGF3A/M97935_MB_at', 'AFFX-HUMRGE/M10098_3_at', 'AFFX-HUMRGE/M10098_5_at', 'AFFX-HUMRGE/M10098_M_at', 'AFFX-LysX-3_at', 'AFFX-LysX-5_at', 'AFFX-LysX-M_at', 'AFFX-M27830_3_at', 'AFFX-M27830_5_at', 'AFFX-M27830_M_at', 'AFFX-PheX-3_at', 'AFFX-PheX-5_at', 'AFFX-PheX-M_at', 'AFFX-r2-Bs-dap-3_at', 'AFFX-r2-Bs-dap-5_at', 'AFFX-r2-Bs-dap-M_at', 'AFFX-r2-Bs-lys-3_at', 'AFFX-r2-Bs-lys-5_at', 'AFFX-r2-Bs-lys-M_at', 'AFFX-r2-Bs-phe-3_at', 'AFFX-r2-Bs-phe-5_at', 'AFFX-r2-Bs-phe-M_at', 'AFFX-r2-Bs-thr-3_s_at', 'AFFX-r2-Bs-thr-5_s_at', 'AFFX-r2-Bs-thr-M_s_at', 'AFFX-r2-Ec-bioB-3_at', 'AFFX-r2-Ec-bioB-5_at', 'AFFX-r2-Ec-bioB-M_at', 'AFFX-r2-Ec-bioC-3_at', 'AFFX-r2-Ec-bioC-5_at', 'AFFX-r2-Ec-bioD-3_at', 'AFFX-r2-Ec-bioD-5_at', 'AFFX-r2-P1-cre-3_at', 'AFFX-r2-P1-cre-5_at', 'AFFX-ThrX-3_at', 'AFFX-ThrX-5_at', 'AFFX-ThrX-M_at', 'AFFX-TrpnX-3_at', 'AFFX-TrpnX-5_at', 'AFFX-TrpnX-M_at', 'RFS_event', 'RFS_time', 'Death_event', 'Death_time', 'DMFS_event', 'DMFS_time', 'ER.status', 'Lymph.node.status', 'Grade', 'Size', 'Age.x']\n",
      "73\n"
     ]
    }
   ],
   "source": [
    "s = set(noa_col_probes)\n",
    "temp3 = [x for x in original_col if x not in s]\n",
    "print(temp3)\n",
    "print(len(temp3))"
   ]
  },
  {
   "cell_type": "code",
   "execution_count": 28,
   "metadata": {},
   "outputs": [
    {
     "data": {
      "text/plain": [
       "22215"
      ]
     },
     "execution_count": 28,
     "metadata": {},
     "output_type": "execute_result"
    }
   ],
   "source": [
    "# There are 22277 genes expression in the original data but noa only has 22215\n",
    "# I see 73 - 11 = 62 genes are not present in noa data and they are baseline genes used by the platform\n",
    "# If I delete this 62 genes from my data along with all clinical data then I get to 22215\n",
    "MAS5_1809_merged.shape[1] - 73"
   ]
  },
  {
   "cell_type": "markdown",
   "metadata": {},
   "source": [
    "# Remove probe IDs that starts with AFFX that couldn't be mapped"
   ]
  },
  {
   "cell_type": "code",
   "execution_count": 29,
   "metadata": {},
   "outputs": [
    {
     "data": {
      "text/plain": [
       "22226"
      ]
     },
     "execution_count": 29,
     "metadata": {},
     "output_type": "execute_result"
    }
   ],
   "source": [
    "selected_col = [col for col in original_col if not col.startswith('AFFX')]\n",
    "selected_col = selected_col \n",
    "len(selected_col)"
   ]
  },
  {
   "cell_type": "code",
   "execution_count": 30,
   "metadata": {},
   "outputs": [
    {
     "data": {
      "text/plain": [
       "22215"
      ]
     },
     "execution_count": 30,
     "metadata": {},
     "output_type": "execute_result"
    }
   ],
   "source": [
    "22226-11"
   ]
  },
  {
   "cell_type": "code",
   "execution_count": 32,
   "metadata": {},
   "outputs": [],
   "source": [
    "del df\n",
    "del df2\n",
    "del combined"
   ]
  },
  {
   "cell_type": "code",
   "execution_count": 33,
   "metadata": {},
   "outputs": [],
   "source": [
    "MAS5_1809_merged2 = MAS5_1809_merged[selected_col]"
   ]
  },
  {
   "cell_type": "code",
   "execution_count": 34,
   "metadata": {},
   "outputs": [
    {
     "data": {
      "text/plain": [
       "(1809, 22226)"
      ]
     },
     "execution_count": 34,
     "metadata": {},
     "output_type": "execute_result"
    }
   ],
   "source": [
    "MAS5_1809_merged2.shape"
   ]
  },
  {
   "cell_type": "code",
   "execution_count": 37,
   "metadata": {},
   "outputs": [
    {
     "data": {
      "text/html": [
       "<div>\n",
       "<style scoped>\n",
       "    .dataframe tbody tr th:only-of-type {\n",
       "        vertical-align: middle;\n",
       "    }\n",
       "\n",
       "    .dataframe tbody tr th {\n",
       "        vertical-align: top;\n",
       "    }\n",
       "\n",
       "    .dataframe thead th {\n",
       "        text-align: right;\n",
       "    }\n",
       "</style>\n",
       "<table border=\"1\" class=\"dataframe\">\n",
       "  <thead>\n",
       "    <tr style=\"text-align: right;\">\n",
       "      <th></th>\n",
       "      <th>RFS_event</th>\n",
       "      <th>RFS_time</th>\n",
       "      <th>Death_event</th>\n",
       "      <th>Death_time</th>\n",
       "      <th>DMFS_event</th>\n",
       "      <th>DMFS_time</th>\n",
       "      <th>ER.status</th>\n",
       "      <th>Lymph.node.status</th>\n",
       "      <th>Grade</th>\n",
       "      <th>Size</th>\n",
       "      <th>Age.x</th>\n",
       "    </tr>\n",
       "  </thead>\n",
       "  <tbody>\n",
       "    <tr>\n",
       "      <th>GSM107072</th>\n",
       "      <td>1.0</td>\n",
       "      <td>3,82</td>\n",
       "      <td>1.0</td>\n",
       "      <td>4,14</td>\n",
       "      <td>NaN</td>\n",
       "      <td>NaN</td>\n",
       "      <td>NaN</td>\n",
       "      <td>NaN</td>\n",
       "      <td>2.0</td>\n",
       "      <td>NaN</td>\n",
       "      <td>NaN</td>\n",
       "    </tr>\n",
       "    <tr>\n",
       "      <th>GSM107073</th>\n",
       "      <td>0.0</td>\n",
       "      <td>8,15</td>\n",
       "      <td>0.0</td>\n",
       "      <td>8,15</td>\n",
       "      <td>NaN</td>\n",
       "      <td>NaN</td>\n",
       "      <td>NaN</td>\n",
       "      <td>NaN</td>\n",
       "      <td>3.0</td>\n",
       "      <td>NaN</td>\n",
       "      <td>NaN</td>\n",
       "    </tr>\n",
       "    <tr>\n",
       "      <th>GSM107074</th>\n",
       "      <td>0.0</td>\n",
       "      <td>8,36</td>\n",
       "      <td>1.0</td>\n",
       "      <td>2,22</td>\n",
       "      <td>NaN</td>\n",
       "      <td>NaN</td>\n",
       "      <td>NaN</td>\n",
       "      <td>NaN</td>\n",
       "      <td>1.0</td>\n",
       "      <td>NaN</td>\n",
       "      <td>NaN</td>\n",
       "    </tr>\n",
       "    <tr>\n",
       "      <th>GSM107075</th>\n",
       "      <td>0.0</td>\n",
       "      <td>8,23</td>\n",
       "      <td>0.0</td>\n",
       "      <td>8,23</td>\n",
       "      <td>NaN</td>\n",
       "      <td>NaN</td>\n",
       "      <td>NaN</td>\n",
       "      <td>NaN</td>\n",
       "      <td>2.0</td>\n",
       "      <td>NaN</td>\n",
       "      <td>NaN</td>\n",
       "    </tr>\n",
       "    <tr>\n",
       "      <th>GSM107076</th>\n",
       "      <td>0.0</td>\n",
       "      <td>8,07</td>\n",
       "      <td>1.0</td>\n",
       "      <td>5,55</td>\n",
       "      <td>NaN</td>\n",
       "      <td>NaN</td>\n",
       "      <td>NaN</td>\n",
       "      <td>NaN</td>\n",
       "      <td>NaN</td>\n",
       "      <td>NaN</td>\n",
       "      <td>NaN</td>\n",
       "    </tr>\n",
       "  </tbody>\n",
       "</table>\n",
       "</div>"
      ],
      "text/plain": [
       "           RFS_event RFS_time  Death_event Death_time DMFS_event DMFS_time  \\\n",
       "GSM107072        1.0     3,82          1.0       4,14        NaN       NaN   \n",
       "GSM107073        0.0     8,15          0.0       8,15        NaN       NaN   \n",
       "GSM107074        0.0     8,36          1.0       2,22        NaN       NaN   \n",
       "GSM107075        0.0     8,23          0.0       8,23        NaN       NaN   \n",
       "GSM107076        0.0     8,07          1.0       5,55        NaN       NaN   \n",
       "\n",
       "           ER.status  Lymph.node.status  Grade Size  Age.x  \n",
       "GSM107072        NaN                NaN    2.0  NaN    NaN  \n",
       "GSM107073        NaN                NaN    3.0  NaN    NaN  \n",
       "GSM107074        NaN                NaN    1.0  NaN    NaN  \n",
       "GSM107075        NaN                NaN    2.0  NaN    NaN  \n",
       "GSM107076        NaN                NaN    NaN  NaN    NaN  "
      ]
     },
     "execution_count": 37,
     "metadata": {},
     "output_type": "execute_result"
    }
   ],
   "source": [
    "MAS5_1809_merged2.iloc[0:5, 22215:22226]"
   ]
  },
  {
   "cell_type": "code",
   "execution_count": 38,
   "metadata": {},
   "outputs": [],
   "source": [
    "MAS5_1809_merged_final = MAS5_1809_merged2.transpose()"
   ]
  },
  {
   "cell_type": "code",
   "execution_count": 39,
   "metadata": {},
   "outputs": [
    {
     "data": {
      "text/plain": [
       "(22226, 1809)"
      ]
     },
     "execution_count": 39,
     "metadata": {},
     "output_type": "execute_result"
    }
   ],
   "source": [
    "MAS5_1809_merged_final.shape"
   ]
  },
  {
   "cell_type": "code",
   "execution_count": 40,
   "metadata": {},
   "outputs": [
    {
     "data": {
      "text/html": [
       "<div>\n",
       "<style scoped>\n",
       "    .dataframe tbody tr th:only-of-type {\n",
       "        vertical-align: middle;\n",
       "    }\n",
       "\n",
       "    .dataframe tbody tr th {\n",
       "        vertical-align: top;\n",
       "    }\n",
       "\n",
       "    .dataframe thead th {\n",
       "        text-align: right;\n",
       "    }\n",
       "</style>\n",
       "<table border=\"1\" class=\"dataframe\">\n",
       "  <thead>\n",
       "    <tr style=\"text-align: right;\">\n",
       "      <th></th>\n",
       "      <th>GSM232262</th>\n",
       "      <th>GSM232263</th>\n",
       "      <th>GSM232264</th>\n",
       "      <th>GSM232265</th>\n",
       "      <th>GSM232266</th>\n",
       "      <th>GSM232267</th>\n",
       "      <th>GSM232268</th>\n",
       "      <th>GSM232269</th>\n",
       "      <th>GSM232270</th>\n",
       "    </tr>\n",
       "  </thead>\n",
       "  <tbody>\n",
       "    <tr>\n",
       "      <th>1007_s_at</th>\n",
       "      <td>3550</td>\n",
       "      <td>9866</td>\n",
       "      <td>4094</td>\n",
       "      <td>3369</td>\n",
       "      <td>5054</td>\n",
       "      <td>4614</td>\n",
       "      <td>5287</td>\n",
       "      <td>4326</td>\n",
       "      <td>2512</td>\n",
       "    </tr>\n",
       "    <tr>\n",
       "      <th>1053_at</th>\n",
       "      <td>416</td>\n",
       "      <td>390</td>\n",
       "      <td>346</td>\n",
       "      <td>794</td>\n",
       "      <td>503</td>\n",
       "      <td>389</td>\n",
       "      <td>709</td>\n",
       "      <td>761</td>\n",
       "      <td>504</td>\n",
       "    </tr>\n",
       "    <tr>\n",
       "      <th>117_at</th>\n",
       "      <td>201</td>\n",
       "      <td>234</td>\n",
       "      <td>190</td>\n",
       "      <td>209</td>\n",
       "      <td>78</td>\n",
       "      <td>83</td>\n",
       "      <td>272</td>\n",
       "      <td>108</td>\n",
       "      <td>117</td>\n",
       "    </tr>\n",
       "    <tr>\n",
       "      <th>121_at</th>\n",
       "      <td>635</td>\n",
       "      <td>726</td>\n",
       "      <td>615</td>\n",
       "      <td>429</td>\n",
       "      <td>600</td>\n",
       "      <td>414</td>\n",
       "      <td>658</td>\n",
       "      <td>648</td>\n",
       "      <td>394</td>\n",
       "    </tr>\n",
       "    <tr>\n",
       "      <th>1255_g_at</th>\n",
       "      <td>5</td>\n",
       "      <td>54</td>\n",
       "      <td>8</td>\n",
       "      <td>5</td>\n",
       "      <td>6</td>\n",
       "      <td>30</td>\n",
       "      <td>25</td>\n",
       "      <td>114</td>\n",
       "      <td>14</td>\n",
       "    </tr>\n",
       "  </tbody>\n",
       "</table>\n",
       "</div>"
      ],
      "text/plain": [
       "          GSM232262 GSM232263 GSM232264 GSM232265 GSM232266 GSM232267  \\\n",
       "1007_s_at      3550      9866      4094      3369      5054      4614   \n",
       "1053_at         416       390       346       794       503       389   \n",
       "117_at          201       234       190       209        78        83   \n",
       "121_at          635       726       615       429       600       414   \n",
       "1255_g_at         5        54         8         5         6        30   \n",
       "\n",
       "          GSM232268 GSM232269 GSM232270  \n",
       "1007_s_at      5287      4326      2512  \n",
       "1053_at         709       761       504  \n",
       "117_at          272       108       117  \n",
       "121_at          658       648       394  \n",
       "1255_g_at        25       114        14  "
      ]
     },
     "execution_count": 40,
     "metadata": {},
     "output_type": "execute_result"
    }
   ],
   "source": [
    "MAS5_1809_merged_final.iloc[0:5, 1800:1809]"
   ]
  },
  {
   "cell_type": "markdown",
   "metadata": {},
   "source": [
    "# Save merged dataframe"
   ]
  },
  {
   "cell_type": "code",
   "execution_count": 41,
   "metadata": {},
   "outputs": [],
   "source": [
    "MAS5_1809_merged2.to_csv('/media/user/Edison1/RahulGit/BRRP-GED/Data/input_data/@MAS5_1809_merged.csv')\n",
    "\n",
    "MAS5_1809_merged_final.to_csv('/media/user/Edison1/RahulGit/BRRP-GED/Data/input_data/@MAS5_1809_merged_final.csv')"
   ]
  },
  {
   "cell_type": "code",
   "execution_count": null,
   "metadata": {},
   "outputs": [],
   "source": []
  }
 ],
 "metadata": {
  "kernelspec": {
   "display_name": "Python 3",
   "language": "python",
   "name": "python3"
  },
  "language_info": {
   "codemirror_mode": {
    "name": "ipython",
    "version": 3
   },
   "file_extension": ".py",
   "mimetype": "text/x-python",
   "name": "python",
   "nbconvert_exporter": "python",
   "pygments_lexer": "ipython3",
   "version": "3.7.0"
  }
 },
 "nbformat": 4,
 "nbformat_minor": 2
}

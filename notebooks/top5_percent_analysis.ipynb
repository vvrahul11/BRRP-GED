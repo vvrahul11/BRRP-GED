{
 "cells": [
  {
   "cell_type": "markdown",
   "id": "fd8f887b",
   "metadata": {},
   "source": [
    "This notebook is used to generate our control dataset for the ConsensusPathDB induced network module analysis. \n",
    "We select the top 5% (656 genes) from the ranked gene list, randomly choose 131 genes (1% of the total original ranked gene list), and perform induced network module analysis.\n",
    "\n",
    "We limited the analysis to 5 times since ConsensusPathDB doesn't provide an API for the induced network module analysis"
   ]
  },
  {
   "cell_type": "code",
   "execution_count": 17,
   "id": "2fe491ba",
   "metadata": {},
   "outputs": [],
   "source": [
    "import pandas as pd\n",
    "import numpy as np\n",
    "import matplotlib.pyplot as plt\n",
    "import random\n",
    "import csv "
   ]
  },
  {
   "cell_type": "code",
   "execution_count": 11,
   "id": "f15d5b82",
   "metadata": {},
   "outputs": [],
   "source": [
    "genes = pd.read_csv(\"C:/research/PhD/papers/hnf4a/BRRP-GED/Output/ranked_gene_list.csv\")\n",
    "genes.drop(columns = ['Unnamed: 0'], inplace=True)\n",
    "genes = genes.head(656)\n",
    "genes_list = list(genes['Gene'])"
   ]
  },
  {
   "cell_type": "code",
   "execution_count": 18,
   "id": "18be1854",
   "metadata": {},
   "outputs": [],
   "source": [
    "for s in ['test1', 'test2', 'test3', 'test4', 'test5']:\n",
    "    gene_samples = random.sample(genes_list, 131)\n",
    "    with open(f'output_{s}.tsv', 'w', newline='') as f_output:\n",
    "        tsv_output = csv.writer(f_output, delimiter='\\t')\n",
    "        tsv_output.writerow(gene_samples)"
   ]
  },
  {
   "cell_type": "markdown",
   "id": "b1dbc5e3",
   "metadata": {},
   "source": [
    "The analysis proved test1, test3, and test 5 gene set is still enriched for genes with HNF4A as a Hub, whereas test2, and test identified ESR2 (Estrogen receptor 2 as one of the hub), proving our ranked gene list is not random but these genes potentially has a mechanistic role in breast cancer recurrence. "
   ]
  },
  {
   "cell_type": "markdown",
   "id": "3eda5dfe",
   "metadata": {},
   "source": []
  }
 ],
 "metadata": {
  "kernelspec": {
   "display_name": "Python 3 (ipykernel)",
   "language": "python",
   "name": "python3"
  },
  "language_info": {
   "codemirror_mode": {
    "name": "ipython",
    "version": 3
   },
   "file_extension": ".py",
   "mimetype": "text/x-python",
   "name": "python",
   "nbconvert_exporter": "python",
   "pygments_lexer": "ipython3",
   "version": "3.7.16"
  }
 },
 "nbformat": 4,
 "nbformat_minor": 5
}
